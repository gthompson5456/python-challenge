{
 "cells": [
  {
   "cell_type": "code",
   "execution_count": 24,
   "metadata": {},
   "outputs": [
    {
     "name": "stdout",
     "output_type": "stream",
     "text": [
      "<_csv.reader object at 0x10fef27d0>\n",
      "3521001\n",
      "2218231\n",
      "704200\n",
      "492940\n",
      "105630\n",
      "63.0\n",
      "20.0\n",
      "14.0\n",
      "3.0\n"
     ]
    },
    {
     "data": {
      "text/plain": [
       "'\\nElection Results\\n-----------------------------------\\nTotal Votes: 3521001\\n----------------------------------- \\nKhan: 63.0% (2218231)\\nCorrey: 20.0% (704200)\\nLi: 14.0% (492940)\\n\"O\\'Tooley: 3.0% (105630)\\n-----------------------------------\\nWinner: Khan\\n-----------------------------------'"
      ]
     },
     "execution_count": 24,
     "metadata": {},
     "output_type": "execute_result"
    }
   ],
   "source": [
    "#import poll\n",
    "import os\n",
    "import csv\n",
    "#working directory\n",
    "csvpath=os.path.join('Instructions','PyPoll','Resources','election_data.csv')\n",
    "with open(csvpath, newline='') as csvfile:\n",
    "    csvreader = csv.reader(csvfile, delimiter=',')\n",
    "    print(csvreader)\n",
    "    csv_header = next(csvreader)\n",
    "    \n",
    "    #Declaring variables\n",
    "    votes = []\n",
    "    county = []\n",
    "    candidates = []\n",
    "    khan = []\n",
    "    correy = []\n",
    "    li = []\n",
    "    otooley = []\n",
    "    results = []\n",
    "\n",
    "\n",
    "    for row in csvreader:\n",
    "        votes.append(int(row[0]))\n",
    "        county.append(row[1])\n",
    "        candidates.append(row[2])\n",
    "\n",
    "    #VOTE COUNT\n",
    "    total_votes = (len(votes))\n",
    "    print(total_votes)\n",
    "\n",
    "    #Votes by Person\n",
    "    for candidate in candidates:\n",
    "        if candidate == \"Khan\":\n",
    "            khan.append(candidates)\n",
    "            khan_votes = len(khan)\n",
    "        elif candidate == \"Correy\":\n",
    "            correy.append(candidates)\n",
    "            correy_votes = len(correy)\n",
    "        elif candidate == \"Li\":\n",
    "            li.append(candidates)\n",
    "            li_votes = len(li)\n",
    "        else:\n",
    "            otooley.append(candidates)\n",
    "            otooley_votes = len(otooley)\n",
    "    print(khan_votes)\n",
    "    print(correy_votes)\n",
    "    print(li_votes)\n",
    "    print(otooley_votes)\n",
    "    \n",
    "    \n",
    "    #Percentages\n",
    "    khan_percent = round(((khan_votes / total_votes) * 100), 2)\n",
    "    correy_percent = round(((correy_votes / total_votes) * 100), 2)\n",
    "    li_percent = round(((li_votes / total_votes) * 100), 2)\n",
    "    otooley_percent = round(((otooley_votes / total_votes) * 100), 2)\n",
    "    print(khan_percent)\n",
    "    print(correy_percent)\n",
    "    print(li_percent)\n",
    "    print(otooley_percent)\n",
    "    \n",
    "    #Winner \n",
    "    if khan_percent > max(correy_percent, li_percent, otooley_percent):\n",
    "        winner = \"Khan\"\n",
    "    elif correy_percent > max(khan_percent, li_percent, otooley_percent):\n",
    "        winner = \"Correy\"  \n",
    "    elif li_percent > max(correy_percent, khan_percent, otooley_percent):\n",
    "        winner = \"Li\"\n",
    "    else:\n",
    "        winner = \"O'Tooley\"\n",
    "\n",
    "         #Print Statements\n",
    "results = f'''\n",
    "Election Results\n",
    "-----------------------------------\n",
    "Total Votes: {total_votes}\n",
    "----------------------------------- \n",
    "Khan: {khan_percent}% ({khan_votes})\n",
    "Correy: {correy_percent}% ({correy_votes})\n",
    "Li: {li_percent}% ({li_votes})\n",
    "\"O'Tooley: {otooley_percent}% ({otooley_votes})\n",
    "-----------------------------------\n",
    "Winner: {winner}\n",
    "-----------------------------------'''\n",
    "results"
   ]
  },
  {
   "cell_type": "code",
   "execution_count": 27,
   "metadata": {},
   "outputs": [
    {
     "name": "stdout",
     "output_type": "stream",
     "text": [
      "\n",
      "Election Results\n",
      "-----------------------------------\n",
      "Total Votes: 3521001\n",
      "----------------------------------- \n",
      "Khan: 63.0% (2218231)\n",
      "Correy: 20.0% (704200)\n",
      "Li: 14.0% (492940)\n",
      "\"O'Tooley: 3.0% (105630)\n",
      "-----------------------------------\n",
      "Winner: Khan\n",
      "-----------------------------------\n"
     ]
    }
   ],
   "source": [
    "# save the output file path\n",
    "csvpath=os.path.join(\"PyPoll\", \"Analysis\", \"Analysis.txt\")\n",
    "\n",
    "# open the output file, create a header row, and then write the zipped object to the csv\n",
    "with open(csvpath, \"w\") as text:\n",
    "    text.write(results)\n",
    "print(results)"
   ]
  },
  {
   "cell_type": "code",
   "execution_count": 26,
   "metadata": {},
   "outputs": [
    {
     "data": {
      "text/plain": [
       "'/Users/gagethompson/Desktop/gt-atl-data-pt-06-2020-u-c/DataViz-Content/03-Python/Homework'"
      ]
     },
     "execution_count": 26,
     "metadata": {},
     "output_type": "execute_result"
    }
   ],
   "source": [
    "pwd"
   ]
  },
  {
   "cell_type": "code",
   "execution_count": null,
   "metadata": {},
   "outputs": [],
   "source": []
  }
 ],
 "metadata": {
  "kernelspec": {
   "display_name": "Python 3",
   "language": "python",
   "name": "python3"
  },
  "language_info": {
   "codemirror_mode": {
    "name": "ipython",
    "version": 3
   },
   "file_extension": ".py",
   "mimetype": "text/x-python",
   "name": "python",
   "nbconvert_exporter": "python",
   "pygments_lexer": "ipython3",
   "version": "3.7.6"
  }
 },
 "nbformat": 4,
 "nbformat_minor": 4
}
