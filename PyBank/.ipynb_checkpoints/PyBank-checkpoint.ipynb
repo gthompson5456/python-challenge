{
 "cells": [
  {
   "cell_type": "code",
   "execution_count": 3,
   "metadata": {},
   "outputs": [
    {
     "name": "stdout",
     "output_type": "stream",
     "text": [
      "<_csv.reader object at 0x10cef63d0>\n",
      "Header: ['Date', 'Profit/Losses']\n",
      "86\n",
      "38382578\n",
      "-2315.1176470588234\n",
      "1926159\n",
      "-2196167\n"
     ]
    },
    {
     "data": {
      "text/plain": [
       "'Financial Analysis\\n----------------------------\\n\\nTotal number of months:  86\\n\\nTotal Revenue in period: $  38382578\\n      \\nAverage monthly change in Revenue : $ -2315.1176470588234\\n\\nGreatest Increase in Profits: Feb-2012 ($1926159)\\n\\nGreatest Decrease in Profits: Sep-2013 ($-2196167)'"
      ]
     },
     "execution_count": 3,
     "metadata": {},
     "output_type": "execute_result"
    }
   ],
   "source": [
    "#import budget data \n",
    "import os\n",
    "import csv \n",
    "#working directory\n",
    "\n",
    "csvpath=os.path.join('..','Instructions','PyBank','Resources','budget_data.csv')\n",
    "with open(csvpath, newline='') as csvfile:\n",
    "    csvreader = csv.reader(csvfile, delimiter=',')\n",
    "    print(csvreader)\n",
    "    csv_header = next(csvreader)\n",
    "    month = []\n",
    "    revenue = []\n",
    "    revenue_change = []\n",
    "    monthly_change = []\n",
    "    results = []\n",
    "    \n",
    "    \n",
    "    print(f\"Header: {csv_header}\")               \n",
    "\n",
    "#Months       \n",
    "    for row in csvreader:\n",
    "        month.append(row[0])\n",
    "        revenue.append(row[1])\n",
    "    print(len(month))\n",
    " #Revenue \n",
    "    revenue_int = map(int,revenue)\n",
    "    total_revenue = (sum(revenue_int))\n",
    "    print(total_revenue)\n",
    "\n",
    " #Avg Change\n",
    "    i = 0\n",
    "    for i in range(len(revenue) - 1):\n",
    "        profit_loss = int(revenue[i+1]) - int(revenue[i])\n",
    " # append profit_loss\n",
    "        revenue_change.append(profit_loss)\n",
    "    Total = sum(revenue_change)\n",
    "    #print(revenue_change)\n",
    "    monthly_change = Total / len(revenue_change)\n",
    "    print(monthly_change)\n",
    "    #print(Total)\n",
    "    \n",
    "#Greatest Increase\n",
    "    profit_increase = max(revenue_change)\n",
    "    print(profit_increase)\n",
    "    k = revenue_change.index(profit_increase)\n",
    "    month_increase = month[k+1]\n",
    "    \n",
    "#Greatest Decrease\n",
    "    profit_decrease = min(revenue_change)\n",
    "    print(profit_decrease)\n",
    "    j = revenue_change.index(profit_decrease)\n",
    "    month_decrease = month[j+1]\n",
    "\n",
    "\n",
    "#Print Statements\n",
    "\n",
    "results = f'''Financial Analysis\n",
    "----------------------------\n",
    "\n",
    "Total number of months:  {len(month)}\n",
    "\n",
    "Total Revenue in period: $  {total_revenue}\n",
    "      \n",
    "Average monthly change in Revenue : $ {monthly_change}\n",
    "\n",
    "Greatest Increase in Profits: {month_increase} (${profit_increase})\n",
    "\n",
    "Greatest Decrease in Profits: {month_decrease} (${profit_decrease})'''\n",
    "results"
   ]
  },
  {
   "cell_type": "code",
   "execution_count": 5,
   "metadata": {},
   "outputs": [
    {
     "name": "stdout",
     "output_type": "stream",
     "text": [
      "Financial Analysis\n",
      "----------------------------\n",
      "\n",
      "Total number of months:  86\n",
      "\n",
      "Total Revenue in period: $  38382578\n",
      "      \n",
      "Average monthly change in Revenue : $ -2315.1176470588234\n",
      "\n",
      "Greatest Increase in Profits: Feb-2012 ($1926159)\n",
      "\n",
      "Greatest Decrease in Profits: Sep-2013 ($-2196167)\n"
     ]
    }
   ],
   "source": [
    "# save the output file path\n",
    "csvpath=os.path.join(\"Analysis\", \"Analysis.txt\")\n",
    "\n",
    "# open the output file, create a header row, and then write the zipped object to the csv\n",
    "with open(csvpath, \"w\") as text:\n",
    "    text.write(results)\n",
    "print(results)"
   ]
  },
  {
   "cell_type": "code",
   "execution_count": 4,
   "metadata": {},
   "outputs": [
    {
     "data": {
      "text/plain": [
       "'/Users/gagethompson/Desktop/gt-atl-data-pt-06-2020-u-c/DataViz-Content/03-Python/Homework/PyBank'"
      ]
     },
     "execution_count": 4,
     "metadata": {},
     "output_type": "execute_result"
    }
   ],
   "source": [
    "pwd"
   ]
  },
  {
   "cell_type": "code",
   "execution_count": null,
   "metadata": {},
   "outputs": [],
   "source": []
  }
 ],
 "metadata": {
  "kernelspec": {
   "display_name": "Python 3",
   "language": "python",
   "name": "python3"
  },
  "language_info": {
   "codemirror_mode": {
    "name": "ipython",
    "version": 3
   },
   "file_extension": ".py",
   "mimetype": "text/x-python",
   "name": "python",
   "nbconvert_exporter": "python",
   "pygments_lexer": "ipython3",
   "version": "3.7.6"
  }
 },
 "nbformat": 4,
 "nbformat_minor": 4
}
